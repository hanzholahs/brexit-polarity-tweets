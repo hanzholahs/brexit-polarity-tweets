{
 "cells": [
  {
   "cell_type": "markdown",
   "metadata": {},
   "source": [
    "# Brexit Polarity Tweets - Deep Learning"
   ]
  },
  {
   "cell_type": "markdown",
   "metadata": {
    "id": "y8kzg4h68OI0"
   },
   "source": [
    "## Setup"
   ]
  },
  {
   "cell_type": "code",
   "execution_count": 17,
   "metadata": {
    "id": "q_loXZ40-3bU"
   },
   "outputs": [],
   "source": [
    "import re\n",
    "import os\n",
    "import nltk\n",
    "import string\n",
    "import pickle\n",
    "\n",
    "# Data Manipulation and Visualization\n",
    "import numpy as np\n",
    "import pandas as pd\n",
    "import matplotlib.pyplot as plt\n",
    "\n",
    "# ML Tools\n",
    "from sklearn.model_selection import train_test_split\n",
    "from sklearn.preprocessing import LabelEncoder\n",
    "\n",
    "# TensorFlow\n",
    "import tensorflow as tf\n",
    "from tensorflow.keras.models import Sequential\n",
    "from tensorflow.keras.layers import TextVectorization, Embedding, GlobalAveragePooling1D, Dropout\n",
    "from tensorflow.keras.layers import Dense, Conv1D, MaxPooling1D, MaxPooling1D, SimpleRNN"
   ]
  },
  {
   "cell_type": "code",
   "execution_count": 25,
   "metadata": {
    "id": "CfCKKAjq_G-P",
    "scrolled": true
   },
   "outputs": [],
   "source": [
    "# path to data\n",
    "PATH_DATA         = \"./data/\"\n",
    "\n",
    "# paths to train-test data\n",
    "PATH_TRAIN_TWEETS_TOKEN = PATH_DATA + \"splits/train_tweets_token.csv\"\n",
    "PATH_TEST_TWEETS_TOKEN = PATH_DATA + \"splits/test_tweets_token.csv\"\n",
    "\n",
    "PATH_TRAIN_TARGETS      = PATH_DATA + \"splits/train_targets.csv\"\n",
    "PATH_TEST_TARGETS      = PATH_DATA + \"splits/test_targets.csv\"\n",
    "\n",
    "# paths to model checkpoints\n",
    "PATH_MODEL_1      = \"./model/model_1/\"\n",
    "PATH_MODEL_2      = \"./model/model_2/\"\n",
    "\n",
    "# settings\n",
    "VAL_SPLIT      = 0.10\n",
    "VOCAB_SIZE     = 30_000\n",
    "EMBEDDING_DIMS = 200\n",
    "SEQ_LENGTH     = 100\n",
    "OOV_LENGTH     = 1"
   ]
  },
  {
   "cell_type": "markdown",
   "metadata": {
    "id": "nScPCQAM8nR-"
   },
   "source": [
    "# Data Preparation"
   ]
  },
  {
   "cell_type": "code",
   "execution_count": 3,
   "metadata": {},
   "outputs": [],
   "source": [
    "from ast import literal_eval\n",
    "\n",
    "X_train = pd.read_csv(PATH_TRAIN_TWEETS_TOKEN, index_col = False)[\"Hit Sentence\"]\n",
    "X_test  = pd.read_csv(PATH_TEST_TWEETS_TOKEN, index_col = False)[\"Hit Sentence\"]\n",
    "\n",
    "X_train = X_train.map(literal_eval).map(lambda tokens: \" \".join(tokens))\n",
    "X_test  = X_test.map(literal_eval).map(lambda tokens: \" \".join(tokens))"
   ]
  },
  {
   "cell_type": "code",
   "execution_count": 4,
   "metadata": {},
   "outputs": [],
   "source": [
    "label_encoder = LabelEncoder()\n",
    "\n",
    "y_train = pd.read_csv(PATH_TRAIN_TARGETS)[\"0\"]\n",
    "y_test  = pd.read_csv(PATH_TEST_TARGETS)[\"0\"]\n",
    "\n",
    "y_train = label_encoder.fit_transform(y_train)\n",
    "y_test  = label_encoder.transform(y_test)"
   ]
  },
  {
   "cell_type": "code",
   "execution_count": 5,
   "metadata": {},
   "outputs": [
    {
     "name": "stdout",
     "output_type": "stream",
     "text": [
      "There are 257060 tweets in the train dataset.\n",
      "There are 28563 tweets in the validation dataset.\n"
     ]
    }
   ],
   "source": [
    "# split dataset train dataset\n",
    "partial_X_train, X_val, partial_y_train, y_val = train_test_split(\n",
    "    X_train, y_train, test_size = VAL_SPLIT, random_state = 123\n",
    ")\n",
    "\n",
    "print(f\"There are {len(partial_X_train)} tweets in the train dataset.\")\n",
    "print(f\"There are {len(X_val)} tweets in the validation dataset.\")"
   ]
  },
  {
   "cell_type": "code",
   "execution_count": 6,
   "metadata": {},
   "outputs": [],
   "source": [
    "fd = nltk.FreqDist()\n",
    "for token_list in X_train:\n",
    "    for token in token_list.split(\" \"):\n",
    "        fd[token] += 1\n",
    "\n",
    "vocab   = [token for token, count in fd.most_common(VOCAB_SIZE)]\n",
    "values  = range(2, len(vocab) + 2)\n",
    "\n",
    "init = tf.lookup.KeyValueTensorInitializer(vocab,\n",
    "                                           values,\n",
    "                                           key_dtype = tf.string,\n",
    "                                           value_dtype = tf.int64)\n",
    "\n",
    "vocab_table = tf.lookup.StaticVocabularyTable(init, OOV_LENGTH)"
   ]
  },
  {
   "cell_type": "code",
   "execution_count": 7,
   "metadata": {},
   "outputs": [],
   "source": [
    "preprocess = TextVectorization(max_tokens = VOCAB_SIZE + 2,\n",
    "                               output_sequence_length = SEQ_LENGTH,\n",
    "                               output_mode = 'int',\n",
    "                               vocabulary  = vocab)"
   ]
  },
  {
   "cell_type": "code",
   "execution_count": 8,
   "metadata": {},
   "outputs": [],
   "source": [
    "partial_X_train = preprocess(partial_X_train)\n",
    "X_val   = preprocess(X_val)\n",
    "X_train = preprocess(X_train)\n",
    "X_test  = preprocess(X_test)"
   ]
  },
  {
   "cell_type": "markdown",
   "metadata": {},
   "source": [
    "# Hyperparameter Tuning"
   ]
  },
  {
   "cell_type": "code",
   "execution_count": 9,
   "metadata": {},
   "outputs": [],
   "source": [
    "model = tf.keras.models.Sequential([\n",
    "    Embedding(VOCAB_SIZE + 2, EMBEDDING_DIMS // 2, input_shape = (SEQ_LENGTH,)),\n",
    "    GlobalAveragePooling1D(),\n",
    "    Dropout(0.2),\n",
    "    Dense(32, activation='relu'),\n",
    "    Dropout(0.2),\n",
    "    Dense(1, activation = \"sigmoid\")\n",
    "])\n",
    "\n",
    "model.compile(optimizer = 'adam', loss = \"BinaryCrossentropy\", metrics = ['accuracy'])"
   ]
  },
  {
   "cell_type": "code",
   "execution_count": null,
   "metadata": {},
   "outputs": [],
   "source": [
    "history = model.fit(partial_X_train, \n",
    "                    partial_y_train, \n",
    "                    validation_data = (X_val, y_val), \n",
    "                    epochs = 15, \n",
    "                    verbose = 1)"
   ]
  },
  {
   "cell_type": "code",
   "execution_count": null,
   "metadata": {},
   "outputs": [
    {
     "data": {
      "image/png": "[encoded data removed]",
      "text/plain": [
       "<Figure size 700x300 with 1 Axes>"
      ]
     },
     "metadata": {},
     "output_type": "display_data"
    }
   ],
   "source": [
    "acc = history.history[\"accuracy\"]\n",
    "val_acc = history.history[\"val_accuracy\"]\n",
    "\n",
    "plt.figure(figsize = (7, 3))\n",
    "\n",
    "plt.plot(acc, label = \"Training\")\n",
    "plt.plot(val_acc, label = \"Validation\")\n",
    "plt.title(\"Accuracy\")\n",
    "plt.legend()\n",
    "plt.show()"
   ]
  },
  {
   "cell_type": "code",
   "execution_count": null,
   "metadata": {},
   "outputs": [
    {
     "data": {
      "image/png": "[encoded data removed]",
      "text/plain": [
       "<Figure size 700x300 with 1 Axes>"
      ]
     },
     "metadata": {},
     "output_type": "display_data"
    }
   ],
   "source": [
    "loss = history.history[\"loss\"]\n",
    "val_loss = history.history[\"val_loss\"]\n",
    "\n",
    "plt.figure(figsize = (7, 3))\n",
    "\n",
    "plt.plot(acc, label = \"Training\")\n",
    "plt.plot(val_loss, label = \"Validation\")\n",
    "plt.title(\"Loss\")\n",
    "plt.legend()\n",
    "plt.show()"
   ]
  },
  {
   "cell_type": "markdown",
   "metadata": {},
   "source": [
    "# Final Model Training"
   ]
  },
  {
   "cell_type": "code",
   "execution_count": 11,
   "metadata": {},
   "outputs": [],
   "source": [
    "embedding_layer = Embedding(VOCAB_SIZE + 2,\n",
    "                            EMBEDDING_DIMS,\n",
    "                            input_shape = (SEQ_LENGTH,),\n",
    "                            name=\"embedding\")"
   ]
  },
  {
   "cell_type": "code",
   "execution_count": 12,
   "metadata": {},
   "outputs": [],
   "source": [
    "model_1 = tf.keras.models.Sequential([\n",
    "    embedding_layer,\n",
    "    GlobalAveragePooling1D(),\n",
    "    Dropout(0.2),\n",
    "    Dense(128, activation='relu'),\n",
    "    Dropout(0.2),\n",
    "    Dense(64, activation='relu'),\n",
    "    Dropout(0.2),\n",
    "    Dense(1, activation = \"sigmoid\")\n",
    "])\n",
    "\n",
    "model_1.compile(optimizer = 'adam', loss = \"BinaryCrossentropy\", metrics = ['accuracy'])"
   ]
  },
  {
   "cell_type": "code",
   "execution_count": 22,
   "metadata": {},
   "outputs": [
    {
     "name": "stdout",
     "output_type": "stream",
     "text": [
      "Model: \"sequential_1\"\n",
      "_________________________________________________________________\n",
      " Layer (type)                Output Shape              Param #   \n",
      "=================================================================\n",
      " embedding (Embedding)       (None, 100, 200)          6000400   \n",
      "                                                                 \n",
      " global_average_pooling1d_1   (None, 200)              0         \n",
      " (GlobalAveragePooling1D)                                        \n",
      "                                                                 \n",
      " dropout_2 (Dropout)         (None, 200)               0         \n",
      "                                                                 \n",
      " dense_2 (Dense)             (None, 128)               25728     \n",
      "                                                                 \n",
      " dropout_3 (Dropout)         (None, 128)               0         \n",
      "                                                                 \n",
      " dense_3 (Dense)             (None, 64)                8256      \n",
      "                                                                 \n",
      " dropout_4 (Dropout)         (None, 64)                0         \n",
      "                                                                 \n",
      " dense_4 (Dense)             (None, 1)                 65        \n",
      "                                                                 \n",
      "=================================================================\n",
      "Total params: 6,034,449\n",
      "Trainable params: 6,034,449\n",
      "Non-trainable params: 0\n",
      "_________________________________________________________________\n"
     ]
    }
   ],
   "source": [
    "model_1.summary()"
   ]
  },
  {
   "cell_type": "code",
   "execution_count": 13,
   "metadata": {},
   "outputs": [
    {
     "name": "stdout",
     "output_type": "stream",
     "text": [
      "Epoch 1/7\n",
      "8926/8926 [==============================] - 65s 7ms/step - loss: 0.4153 - accuracy: 0.8069\n",
      "Epoch 2/7\n",
      "8926/8926 [==============================] - 64s 7ms/step - loss: 0.3496 - accuracy: 0.8434\n",
      "Epoch 3/7\n",
      "8926/8926 [==============================] - 64s 7ms/step - loss: 0.3256 - accuracy: 0.8555\n",
      "Epoch 4/7\n",
      "8926/8926 [==============================] - 64s 7ms/step - loss: 0.3063 - accuracy: 0.8659\n",
      "Epoch 5/7\n",
      "8926/8926 [==============================] - 64s 7ms/step - loss: 0.2909 - accuracy: 0.8745\n",
      "Epoch 6/7\n",
      "8926/8926 [==============================] - 63s 7ms/step - loss: 0.2782 - accuracy: 0.8809\n",
      "Epoch 7/7\n",
      "8926/8926 [==============================] - 62s 7ms/step - loss: 0.2663 - accuracy: 0.8866\n"
     ]
    }
   ],
   "source": [
    "history = model_1.fit(X_train, y_train, epochs = 7, verbose = 1)"
   ]
  },
  {
   "cell_type": "code",
   "execution_count": 26,
   "metadata": {},
   "outputs": [
    {
     "name": "stdout",
     "output_type": "stream",
     "text": [
      "INFO:tensorflow:Assets written to: ./model/model_1/assets\n"
     ]
    }
   ],
   "source": [
    "model_1.save(PATH_MODEL_1)\n",
    "model_1.save(PATH_MODEL_1 + \"model.keras\")\n",
    "model_1.save(PATH_MODEL_1 + \"model.h5\")"
   ]
  },
  {
   "cell_type": "code",
   "execution_count": 14,
   "metadata": {},
   "outputs": [
    {
     "name": "stdout",
     "output_type": "stream",
     "text": [
      "2232/2232 [==============================] - 4s 2ms/step - loss: 0.3509 - accuracy: 0.8551\n"
     ]
    },
    {
     "data": {
      "text/plain": [
       "[0.3509155213832855, 0.8550541996955872]"
      ]
     },
     "execution_count": 14,
     "metadata": {},
     "output_type": "execute_result"
    }
   ],
   "source": [
    "model_1.evaluate(X_test, y_test)"
   ]
  },
  {
   "cell_type": "markdown",
   "metadata": {},
   "source": [
    "# More Complex Model"
   ]
  },
  {
   "cell_type": "code",
   "execution_count": 20,
   "metadata": {},
   "outputs": [],
   "source": [
    "regularizer = tf.keras.regularizers.l2(0.0001)\n",
    "optimizer   = tf.keras.optimizers.Adam(learning_rate = 0.0005)\n",
    "\n",
    "model_2 = Sequential([\n",
    "        embedding_layer,\n",
    "        Conv1D(filters = 64, kernel_size = 3, padding = \"causal\", activation = \"relu\"),\n",
    "        Dropout(0.4),\n",
    "        MaxPooling1D(pool_size = 2),\n",
    "        Conv1D(filters = 216, kernel_size = 3, padding = \"causal\", activation = \"relu\"),\n",
    "        Dropout(0.4),\n",
    "        MaxPooling1D(pool_size = 2),\n",
    "        SimpleRNN(128, activation = \"relu\", \n",
    "                  kernel_regularizer = regularizer, \n",
    "                  recurrent_regularizer = regularizer),\n",
    "        Dropout(0.4),\n",
    "        Dense(512, activation='relu', kernel_regularizer = regularizer),\n",
    "        Dropout(0.4),\n",
    "        Dense(1, activation='sigmoid')\n",
    "])\n",
    "\n",
    "model_2.compile(optimizer = optimizer, loss = \"BinaryCrossentropy\", metrics = ['accuracy'])"
   ]
  },
  {
   "cell_type": "code",
   "execution_count": 23,
   "metadata": {},
   "outputs": [
    {
     "name": "stdout",
     "output_type": "stream",
     "text": [
      "Model: \"sequential_3\"\n",
      "_________________________________________________________________\n",
      " Layer (type)                Output Shape              Param #   \n",
      "=================================================================\n",
      " embedding (Embedding)       (None, 100, 200)          6000400   \n",
      "                                                                 \n",
      " conv1d_2 (Conv1D)           (None, 100, 64)           38464     \n",
      "                                                                 \n",
      " dropout_9 (Dropout)         (None, 100, 64)           0         \n",
      "                                                                 \n",
      " max_pooling1d_2 (MaxPooling  (None, 50, 64)           0         \n",
      " 1D)                                                             \n",
      "                                                                 \n",
      " conv1d_3 (Conv1D)           (None, 50, 216)           41688     \n",
      "                                                                 \n",
      " dropout_10 (Dropout)        (None, 50, 216)           0         \n",
      "                                                                 \n",
      " max_pooling1d_3 (MaxPooling  (None, 25, 216)          0         \n",
      " 1D)                                                             \n",
      "                                                                 \n",
      " simple_rnn_1 (SimpleRNN)    (None, 128)               44160     \n",
      "                                                                 \n",
      " dropout_11 (Dropout)        (None, 128)               0         \n",
      "                                                                 \n",
      " dense_7 (Dense)             (None, 512)               66048     \n",
      "                                                                 \n",
      " dropout_12 (Dropout)        (None, 512)               0         \n",
      "                                                                 \n",
      " dense_8 (Dense)             (None, 1)                 513       \n",
      "                                                                 \n",
      "=================================================================\n",
      "Total params: 6,191,273\n",
      "Trainable params: 6,191,273\n",
      "Non-trainable params: 0\n",
      "_________________________________________________________________\n"
     ]
    }
   ],
   "source": [
    "model_2.summary()"
   ]
  },
  {
   "cell_type": "code",
   "execution_count": 21,
   "metadata": {},
   "outputs": [
    {
     "name": "stdout",
     "output_type": "stream",
     "text": [
      "Epoch 1/7\n",
      "8926/8926 [==============================] - 297s 33ms/step - loss: 0.3548 - accuracy: 0.8531\n",
      "Epoch 2/7\n",
      "8926/8926 [==============================] - 313s 35ms/step - loss: 0.3121 - accuracy: 0.8709\n",
      "Epoch 3/7\n",
      "8926/8926 [==============================] - 789s 88ms/step - loss: 0.2917 - accuracy: 0.8838\n",
      "Epoch 4/7\n",
      "8926/8926 [==============================] - 294s 33ms/step - loss: 0.2785 - accuracy: 0.8902\n",
      "Epoch 5/7\n",
      "8926/8926 [==============================] - 292s 33ms/step - loss: 0.2672 - accuracy: 0.8958\n",
      "Epoch 6/7\n",
      "8926/8926 [==============================] - 295s 33ms/step - loss: 0.2565 - accuracy: 0.9013\n",
      "Epoch 7/7\n",
      "8926/8926 [==============================] - 300s 34ms/step - loss: 0.2469 - accuracy: 0.9056\n"
     ]
    },
    {
     "data": {
      "text/plain": [
       "<keras.callbacks.History at 0x223bf2be9d0>"
      ]
     },
     "execution_count": 21,
     "metadata": {},
     "output_type": "execute_result"
    }
   ],
   "source": [
    "model_2.fit(X_train, y_train, epochs = 7, verbose = 1)"
   ]
  },
  {
   "cell_type": "code",
   "execution_count": 27,
   "metadata": {},
   "outputs": [
    {
     "name": "stderr",
     "output_type": "stream",
     "text": [
      "WARNING:absl:Found untraced functions such as _jit_compiled_convolution_op, _jit_compiled_convolution_op while saving (showing 2 of 2). These functions will not be directly callable after loading.\n"
     ]
    },
    {
     "name": "stdout",
     "output_type": "stream",
     "text": [
      "INFO:tensorflow:Assets written to: ./model/model_2/assets\n"
     ]
    },
    {
     "name": "stderr",
     "output_type": "stream",
     "text": [
      "INFO:tensorflow:Assets written to: ./model/model_2/assets\n"
     ]
    }
   ],
   "source": [
    "model_2.save(PATH_MODEL_2)\n",
    "model_2.save(PATH_MODEL_2 + \"model.keras\")\n",
    "model_2.save(PATH_MODEL_2 + \"model.h5\")"
   ]
  },
  {
   "cell_type": "code",
   "execution_count": 24,
   "metadata": {},
   "outputs": [
    {
     "name": "stdout",
     "output_type": "stream",
     "text": [
      "2232/2232 [==============================] - 14s 6ms/step - loss: 0.3521 - accuracy: 0.8619\n"
     ]
    },
    {
     "data": {
      "text/plain": [
       "[0.3521104156970978, 0.8618883490562439]"
      ]
     },
     "execution_count": 24,
     "metadata": {},
     "output_type": "execute_result"
    }
   ],
   "source": [
    "model_2.evaluate(X_test, y_test)"
   ]
  }
 ],
 "metadata": {
  "accelerator": "GPU",
  "colab": {
   "provenance": []
  },
  "gpuClass": "standard",
  "kernelspec": {
   "display_name": "main",
   "language": "python",
   "name": "python3"
  },
  "language_info": {
   "codemirror_mode": {
    "name": "ipython",
    "version": 3
   },
   "file_extension": ".py",
   "mimetype": "text/x-python",
   "name": "python",
   "nbconvert_exporter": "python",
   "pygments_lexer": "ipython3",
   "version": "3.9.16"
  },
  "vscode": {
   "interpreter": {
    "hash": "1276247cfa5c9ee4636cf367496103f29036e30efa859b5123807facee62d98b"
   }
  }
 },
 "nbformat": 4,
 "nbformat_minor": 1
}
