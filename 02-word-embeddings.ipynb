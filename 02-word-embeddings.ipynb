{
 "cells": [
  {
   "cell_type": "markdown",
   "metadata": {},
   "source": [
    "# Brexit Polarity Tweets - Word Embeddings"
   ]
  },
  {
   "cell_type": "code",
   "execution_count": 146,
   "metadata": {},
   "outputs": [],
   "source": [
    "from gensim import utils\n",
    "from gensim.models import Word2Vec\n",
    "from gensim.test.utils import datapath\n",
    "from gensim.models.fasttext import FastText"
   ]
  },
  {
   "cell_type": "code",
   "execution_count": 149,
   "metadata": {},
   "outputs": [],
   "source": [
    "# settings\n",
    "EMBEDDING_DIMS = 300\n",
    "SEQ_LENGTH  = 200\n",
    "WINDOW_SIZE = 5\n",
    "MIN_COUNT   = 5\n",
    "EPOCHS      = 5\n",
    "\n",
    "# paths to data\n",
    "PATH_TWEETS = \"./data/preprocessed/train/0-clean.txt\""
   ]
  },
  {
   "cell_type": "code",
   "execution_count": 156,
   "metadata": {},
   "outputs": [],
   "source": [
    "def train_embedding(model_type, corpus_file, vector_size, window, min_count, sg, workers):\n",
    "    if model_type.lower() == \"word2vec\":\n",
    "        model = Word2Vec(corpus_file = corpus_file,\n",
    "                         vector_size = vector_size,\n",
    "                         window = window,\n",
    "                         min_count = min_count,\n",
    "                         sg = sg,\n",
    "                         workers = workers)\n",
    "    elif model_type.lower() == \"fasttext\":\n",
    "        model = FastText(corpus_file = corpus_file,\n",
    "                         vector_size = vector_size,\n",
    "                         window = window,\n",
    "                         min_count = min_count,\n",
    "                         workers = workers)\n",
    "    else:\n",
    "        return None\n",
    "    \n",
    "    return model.wv.index_to_key, model.wv.vectors"
   ]
  },
  {
   "cell_type": "code",
   "execution_count": 158,
   "metadata": {},
   "outputs": [],
   "source": [
    "vocab, vectors = train_embedding(\"word2vec\",\n",
    "                                 corpus_file = PATH_TWEETS,\n",
    "                                 vector_size = EMBEDDING_DIMS,\n",
    "                                 window = WINDOW_SIZE,\n",
    "                                 min_count = MIN_COUNT,\n",
    "                                 sg = 1,\n",
    "                                 workers = 10)"
   ]
  },
  {
   "cell_type": "markdown",
   "metadata": {},
   "source": [
    "## Neural Network"
   ]
  },
  {
   "cell_type": "code",
   "execution_count": 1,
   "metadata": {},
   "outputs": [],
   "source": [
    "PATH_DATA  = \"./data/\"\n",
    "PATH_TRAIN = PATH_DATA + \"preprocessed/train/\"\n",
    "PATH_TEST  = PATH_DATA + \"preprocessed/test/\""
   ]
  },
  {
   "cell_type": "code",
   "execution_count": 4,
   "metadata": {},
   "outputs": [],
   "source": [
    "# define helper functions\n",
    "def read_tweet(filepath):\n",
    "    tweets = []\n",
    "    with open(filepath, \"r\") as f:\n",
    "        for tweet in f:\n",
    "            tweets.append(tweet.replace(\"\\n\", \"\"))\n",
    "    return pd.Series(tweets)"
   ]
  },
  {
   "cell_type": "code",
   "execution_count": 116,
   "metadata": {},
   "outputs": [],
   "source": [
    "tokenizer = nltk.TweetTokenizer()"
   ]
  },
  {
   "cell_type": "code",
   "execution_count": 117,
   "metadata": {},
   "outputs": [],
   "source": [
    "tweets = read_tweet(PATH_TRAIN + \"0-clean.txt\")[:10000]\n",
    "targets = read_tweet(PATH_TRAIN + \"0-targets.txt\")[:10000]"
   ]
  },
  {
   "cell_type": "code",
   "execution_count": 118,
   "metadata": {},
   "outputs": [],
   "source": [
    "def get_vocab(tweets, seq_length):\n",
    "    # create a variable to store frequency distribution based on label\n",
    "    fdist = nltk.FreqDist()\n",
    "\n",
    "    # calculate the frequency of tokens based on label\n",
    "    for index, tweet in zip(tweets.index, tweets):\n",
    "        for token in tokenizer.tokenize(tweet):\n",
    "            fdist[token] += 1\n",
    "   \n",
    "    return [token for token, count in fdist.items()]\n",
    "\n",
    "vocab = get_vocab(tweets, SEQ_LENGTH)"
   ]
  },
  {
   "cell_type": "code",
   "execution_count": 119,
   "metadata": {},
   "outputs": [],
   "source": [
    "vectorizer = TextVectorization(output_sequence_length = SEQ_LENGTH,\n",
    "                               output_mode = 'int',\n",
    "                               vocabulary  = vocab)"
   ]
  },
  {
   "cell_type": "code",
   "execution_count": 120,
   "metadata": {},
   "outputs": [],
   "source": [
    "model_neuralnet = Sequential([\n",
    "    Embedding(len(vocab) + 2, EMBEDDING_DIMS, input_shape = (SEQ_LENGTH,)),\n",
    "    GlobalAveragePooling1D(),\n",
    "    Dense(1, activation = \"sigmoid\")\n",
    "])\n",
    "\n",
    "model_neuralnet.compile(optimizer = 'adam', loss = \"BinaryCrossentropy\", metrics = ['accuracy'])"
   ]
  },
  {
   "cell_type": "code",
   "execution_count": 121,
   "metadata": {},
   "outputs": [
    {
     "name": "stdout",
     "output_type": "stream",
     "text": [
      "Epoch 1/3\n",
      "313/313 [==============================] - 3s 8ms/step - loss: 0.6883 - accuracy: 0.5453\n",
      "Epoch 2/3\n",
      "313/313 [==============================] - 2s 7ms/step - loss: 0.6578 - accuracy: 0.6470\n",
      "Epoch 3/3\n",
      "313/313 [==============================] - 2s 7ms/step - loss: 0.5905 - accuracy: 0.7237\n"
     ]
    }
   ],
   "source": [
    "label_encoder = LabelEncoder()\n",
    "\n",
    "train_data = vectorizer(tweets)\n",
    "train_label = label_encoder.fit_transform(targets)\n",
    "\n",
    "history = model_neuralnet.fit(train_data, train_label, epochs = EPOCHS, verbose = 1)"
   ]
  },
  {
   "cell_type": "markdown",
   "metadata": {},
   "source": [
    "# Saving"
   ]
  },
  {
   "cell_type": "code",
   "execution_count": 144,
   "metadata": {},
   "outputs": [],
   "source": [
    "def save_embeddings(vocab, vectors, filepath):\n",
    "    assert len(vocab) == len(vectors)\n",
    "    \n",
    "    with open(filepath, \"w\") as f:\n",
    "        for word, vector in zip(vocab, vectors):\n",
    "            f.write(word + \" \")\n",
    "            f.write(\" \".join(vector) + \"\\n\")"
   ]
  },
  {
   "cell_type": "code",
   "execution_count": 136,
   "metadata": {},
   "outputs": [],
   "source": [
    "weights = model_neuralnet.layers[0].get_weights()[0][2:].astype(str)"
   ]
  },
  {
   "cell_type": "code",
   "execution_count": 137,
   "metadata": {},
   "outputs": [],
   "source": [
    "vocab = vectorizer.get_vocabulary()[2:]"
   ]
  },
  {
   "cell_type": "code",
   "execution_count": 138,
   "metadata": {},
   "outputs": [
    {
     "data": {
      "text/plain": [
       "20223"
      ]
     },
     "execution_count": 138,
     "metadata": {},
     "output_type": "execute_result"
    }
   ],
   "source": [
    "len(vocab)"
   ]
  },
  {
   "cell_type": "code",
   "execution_count": 143,
   "metadata": {},
   "outputs": [
    {
     "name": "stdout",
     "output_type": "stream",
     "text": [
      "(300,)\n",
      "-0.0030258286 -0.033835553 -0.00038227858 0.061044343 0.028527828 -0.0060541765 0.021054296 -0.013385113 0.0007711328 0.026431696\n"
     ]
    }
   ],
   "source": [
    "for w in weights:\n",
    "    print(w.shape)\n",
    "    print(\" \".join(w[:10]))\n",
    "    break"
   ]
  },
  {
   "cell_type": "code",
   "execution_count": 139,
   "metadata": {},
   "outputs": [
    {
     "data": {
      "text/plain": [
       "(20223, 300)"
      ]
     },
     "execution_count": 139,
     "metadata": {},
     "output_type": "execute_result"
    }
   ],
   "source": [
    "weights.shape"
   ]
  },
  {
   "cell_type": "code",
   "execution_count": 145,
   "metadata": {},
   "outputs": [],
   "source": [
    "save_embeddings(vocab, weights, \"test.txt\")"
   ]
  },
  {
   "cell_type": "code",
   "execution_count": null,
   "metadata": {},
   "outputs": [],
   "source": []
  }
 ],
 "metadata": {
  "kernelspec": {
   "display_name": "main",
   "language": "python",
   "name": "python3"
  },
  "language_info": {
   "codemirror_mode": {
    "name": "ipython",
    "version": 3
   },
   "file_extension": ".py",
   "mimetype": "text/x-python",
   "name": "python",
   "nbconvert_exporter": "python",
   "pygments_lexer": "ipython3",
   "version": "3.9.16"
  },
  "orig_nbformat": 4
 },
 "nbformat": 4,
 "nbformat_minor": 2
}
